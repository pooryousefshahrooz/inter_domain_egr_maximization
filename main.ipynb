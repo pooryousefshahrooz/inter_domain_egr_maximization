{
 "cells": [
  {
   "cell_type": "code",
   "execution_count": null,
   "id": "7577c70a",
   "metadata": {},
   "outputs": [],
   "source": [
    "from __future__ import print_function\n",
    "\n",
    "import numpy as np\n",
    "import random\n",
    "import multiprocessing as mp\n",
    "from absl import app\n",
    "from absl import flags\n",
    "import ast\n",
    "from network import Network\n",
    "from config import get_config\n",
    "from solver import Solver\n",
    "import time\n",
    "import os\n",
    "FLAGS = flags.FLAGS"
   ]
  },
  {
   "cell_type": "code",
   "execution_count": null,
   "id": "c46d41e2",
   "metadata": {},
   "outputs": [],
   "source": [
    "def main(_):\n",
    "    config = get_config(FLAGS) or FLAGS\n",
    "    for num_paths in range(int(config.min_num_of_paths),int(config.num_of_paths)+1):\n",
    "        for edge_capacity_bound in config.edge_capacity_bounds:\n",
    "            network = Network(config,edge_capacity_bound,False)\n",
    "            for fidelity_threshold_up_range in config.fidelity_threshold_ranges:\n",
    "                network.fidelity_threshold_range = fidelity_threshold_up_range\n",
    "                network.set_each_wk_k_fidelity_threshold()\n",
    "                for edge_fidelity_range in config.edge_fidelity_ranges:\n",
    "                    for purificaion_scheme in [\"end_level\"]:\n",
    "                        if purificaion_scheme ==\"end_level\":\n",
    "                            network.end_level_purification_flag = True\n",
    "                        else:\n",
    "                            network.end_level_purification_flag = False\n",
    "\n",
    "                        network.end_level_purification_flag = True\n",
    "                        network.set_edge_fidelity(edge_fidelity_range)\n",
    "                        # we get all the paths for all workloads\n",
    "                        network.num_of_paths = num_paths\n",
    "                        network.get_path_info()\n",
    "                        for q_value in config.q_values:\n",
    "                            network.q_value = q_value\n",
    "                            for scheme in config.schemes:\n",
    "                                if scheme in [\"EGR\",\"EGRSquare\",\"Hop\"]:\n",
    "                                    network.evaluate_shortest_path_routing(scheme)\n",
    "                                elif scheme ==\"Genetic\":\n",
    "                                    network.evaluate_genetic_algorithm_for_path_selection()\n",
    "                                elif scheme ==\"RL\":\n",
    "                                    network.evaluate_rl_for_path_selection()\n",
    "                                else:\n",
    "                                    print(\"not valid scheme (%s): set schemes from EGR, EGRSquare,Hop, Genetic, or RL keywords\"%(scheme))"
   ]
  },
  {
   "cell_type": "code",
   "execution_count": null,
   "id": "2fe03cec",
   "metadata": {},
   "outputs": [],
   "source": [
    "if __name__ == '__main__':\n",
    "    app.run(main)"
   ]
  }
 ],
 "metadata": {
  "kernelspec": {
   "display_name": "Python 3 (ipykernel)",
   "language": "python",
   "name": "python3"
  },
  "language_info": {
   "codemirror_mode": {
    "name": "ipython",
    "version": 3
   },
   "file_extension": ".py",
   "mimetype": "text/x-python",
   "name": "python",
   "nbconvert_exporter": "python",
   "pygments_lexer": "ipython3",
   "version": "3.9.12"
  }
 },
 "nbformat": 4,
 "nbformat_minor": 5
}
