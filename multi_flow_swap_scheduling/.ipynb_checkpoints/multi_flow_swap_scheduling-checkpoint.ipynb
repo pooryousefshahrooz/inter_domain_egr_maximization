{
 "cells": [
  {
   "cell_type": "code",
   "execution_count": 2,
   "id": "47307598",
   "metadata": {},
   "outputs": [],
   "source": [
    "import csv\n",
    "\n",
    "import os\n",
    "import sys\n",
    "from docplex.mp.progress import *\n",
    "from docplex.mp.progress import SolutionRecorder\n",
    "import networkx as nx\n",
    "import time\n",
    "from absl import flags\n",
    "FLAGS = flags.FLAGS"
   ]
  },
  {
   "cell_type": "code",
   "execution_count": 44,
   "id": "f2bea904",
   "metadata": {},
   "outputs": [],
   "source": [
    "def CPLEX_swap_scheduling():\n",
    "    import docplex.mp.model as cpx\n",
    "    opt_model = cpx.Model(name=\"swap_scheduling\")\n",
    "    eflow_vars  = {(i,j,k,b): opt_model.continuous_var(lb=0, ub= max_edge_capacity,\n",
    "                    name=\"eflow_{0}_{1}_{2}_{3}\".format(i,j,k,b))\n",
    "                   for i in nodes for j in nodes for k in nodes for b in nodes}\n",
    "                   \n",
    "#     for i in nodes:\n",
    "#         for j in nodes:\n",
    "#             for k in nodes:\n",
    "#                 print(\"eflow_vars(%s,%s,%s,%s)\"%(i,k,i,j))\n",
    "#                 print(\"eflow_vars(%s,%s,%s,%s) not exist \"%(k,j,i,j))\n",
    "    u_vars  = {(i,j): opt_model.continuous_var(lb=0, ub= max_edge_capacity,\n",
    "                              name=\"u_{0}_{1}\".format(i,j)) for i in nodes for j in nodes}\n",
    "    \n",
    "    for i in nodes:\n",
    "        for j in nodes:\n",
    "            if i!=j:\n",
    "                if (i,j) != (source,sink) or (i,j)!=(sink,source):\n",
    "                    opt_model.add_constraint(opt_model.sum(q_value[k] *\n",
    "                    (eflow_vars[i,k,i,j]+eflow_vars[k,j,i,j])/2 for k in nodes if k not in [i,j])+\n",
    "                    u_vars[i,j]*edge_capacity[(i,j)]*check_edge_exit(i,j)==opt_model.sum(\n",
    "                    (eflow_vars[i,j,i,k]+eflow_vars[i,j,k,j])/2 for k in nodes if k not in [i,j]))\n",
    "    for i in nodes:\n",
    "        for j in nodes:\n",
    "            for k in nodes:\n",
    "                opt_model.add_constraint(eflow_vars[i,k,i,j]==eflow_vars[k,j,i,j])\n",
    "                opt_model.add_constraint(eflow_vars[i,k,i,j]>=0)\n",
    "    for i in nodes:\n",
    "        opt_model.add_constraint(eflow_vars[source,sink,source,i]==eflow_vars[source,sink,sink,i])\n",
    "        opt_model.add_constraint(eflow_vars[source,sink,source,i]==0)\n",
    "    for edge in edges:\n",
    "        opt_model.add_constraint(u_vars[edge[0],edge[1]]>=0)  \n",
    "        opt_model.add_constraint(u_vars[edge[0],edge[1]]<=1) \n",
    "                                             \n",
    "            \n",
    "    objective = opt_model.sum(q_value[k] * (eflow_vars[source,k,source,sink]+eflow_vars[k,sink,source,sink])/2\n",
    "                                             for k in nodes if k not in [source,sink]\n",
    "                          )\n",
    "\n",
    "    \n",
    "    # for maximization\n",
    "    opt_model.maximize(objective)\n",
    "#     opt_model.solve()\n",
    "    opt_model.print_information()\n",
    "    #try:\n",
    "    opt_model.solve()\n",
    "    print('docplex.mp.solution',opt_model.solution)\n",
    "    objective_value = -1\n",
    "    try:\n",
    "        if opt_model.solution:\n",
    "            objective_value =opt_model.solution.get_objective_value()\n",
    "    except ValueError:\n",
    "        print(ValueError)"
   ]
  },
  {
   "cell_type": "code",
   "execution_count": 45,
   "id": "74b8d65f",
   "metadata": {},
   "outputs": [
    {
     "name": "stdout",
     "output_type": "stream",
     "text": [
      "Model: swap_scheduling\n",
      " - number of variables: 650\n",
      "   - binary=0, integer=0, continuous=650\n",
      " - number of constraints: 288\n",
      "   - linear=288\n",
      " - parameters: defaults\n",
      " - objective: maximize\n"
     ]
    },
    {
     "ename": "DOcplexException",
     "evalue": "Cannot solve model: no CPLEX runtime found.",
     "output_type": "error",
     "traceback": [
      "\u001b[0;31m---------------------------------------------------------------------------\u001b[0m",
      "\u001b[0;31mDOcplexException\u001b[0m                          Traceback (most recent call last)",
      "Cell \u001b[0;32mIn [45], line 23\u001b[0m\n\u001b[1;32m     21\u001b[0m         \u001b[38;5;28;01mif\u001b[39;00m (i,j) \u001b[38;5;129;01mnot\u001b[39;00m \u001b[38;5;129;01min\u001b[39;00m edges:\n\u001b[1;32m     22\u001b[0m             edge_capacity[(i,j)] \u001b[38;5;241m=\u001b[39m \u001b[38;5;241m0\u001b[39m\n\u001b[0;32m---> 23\u001b[0m CPLEX_swap_scheduling()\n",
      "Cell \u001b[0;32mIn [44], line 47\u001b[0m, in \u001b[0;36mCPLEX_swap_scheduling\u001b[0;34m()\u001b[0m\n\u001b[1;32m     45\u001b[0m opt_model\u001b[38;5;241m.\u001b[39mprint_information()\n\u001b[1;32m     46\u001b[0m \u001b[38;5;66;03m#try:\u001b[39;00m\n\u001b[0;32m---> 47\u001b[0m \u001b[43mopt_model\u001b[49m\u001b[38;5;241;43m.\u001b[39;49m\u001b[43msolve\u001b[49m\u001b[43m(\u001b[49m\u001b[43m)\u001b[49m\n\u001b[1;32m     48\u001b[0m \u001b[38;5;28mprint\u001b[39m(\u001b[38;5;124m'\u001b[39m\u001b[38;5;124mdocplex.mp.solution\u001b[39m\u001b[38;5;124m'\u001b[39m,opt_model\u001b[38;5;241m.\u001b[39msolution)\n\u001b[1;32m     49\u001b[0m objective_value \u001b[38;5;241m=\u001b[39m \u001b[38;5;241m-\u001b[39m\u001b[38;5;241m1\u001b[39m\n",
      "File \u001b[0;32m~/miniconda3/lib/python3.9/site-packages/docplex/mp/model.py:4828\u001b[0m, in \u001b[0;36mModel.solve\u001b[0;34m(self, **kwargs)\u001b[0m\n\u001b[1;32m   4826\u001b[0m     \u001b[38;5;28;01mreturn\u001b[39;00m \u001b[38;5;28mself\u001b[39m\u001b[38;5;241m.\u001b[39m_solve_local(context, used_clean_before_solve, parameter_sets)\u001b[38;5;66;03m# lex_timelimits, lex_mipgaps)\u001b[39;00m\n\u001b[1;32m   4827\u001b[0m \u001b[38;5;28;01melse\u001b[39;00m:\n\u001b[0;32m-> 4828\u001b[0m     \u001b[38;5;28;01mreturn\u001b[39;00m \u001b[38;5;28;43mself\u001b[39;49m\u001b[38;5;241;43m.\u001b[39;49m\u001b[43mfatal\u001b[49m\u001b[43m(\u001b[49m\u001b[38;5;124;43m\"\u001b[39;49m\u001b[38;5;124;43mCannot solve model: no CPLEX runtime found.\u001b[39;49m\u001b[38;5;124;43m\"\u001b[39;49m\u001b[43m)\u001b[49m\n",
      "File \u001b[0;32m~/miniconda3/lib/python3.9/site-packages/docplex/mp/model.py:1078\u001b[0m, in \u001b[0;36mModel.fatal\u001b[0;34m(self, msg, *args)\u001b[0m\n\u001b[1;32m   1077\u001b[0m \u001b[38;5;28;01mdef\u001b[39;00m \u001b[38;5;21mfatal\u001b[39m(\u001b[38;5;28mself\u001b[39m, msg, \u001b[38;5;241m*\u001b[39margs):\n\u001b[0;32m-> 1078\u001b[0m     \u001b[38;5;28;43mself\u001b[39;49m\u001b[38;5;241;43m.\u001b[39;49m\u001b[43m_error_handler\u001b[49m\u001b[38;5;241;43m.\u001b[39;49m\u001b[43mfatal\u001b[49m\u001b[43m(\u001b[49m\u001b[43mmsg\u001b[49m\u001b[43m,\u001b[49m\u001b[43m \u001b[49m\u001b[43margs\u001b[49m\u001b[43m)\u001b[49m\n",
      "File \u001b[0;32m~/miniconda3/lib/python3.9/site-packages/docplex/mp/error_handler.py:210\u001b[0m, in \u001b[0;36mAbstractErrorHandler.fatal\u001b[0;34m(self, msg, args)\u001b[0m\n\u001b[1;32m    208\u001b[0m resolved_message \u001b[38;5;241m=\u001b[39m resolve_pattern(msg, args)\n\u001b[1;32m    209\u001b[0m docplex_error_stop_here()\n\u001b[0;32m--> 210\u001b[0m \u001b[38;5;28;01mraise\u001b[39;00m DOcplexException(resolved_message)\n",
      "\u001b[0;31mDOcplexException\u001b[0m: Cannot solve model: no CPLEX runtime found."
     ]
    }
   ],
   "source": [
    "def check_edge_exit(i,j):\n",
    "    if (i,j) in edges:\n",
    "        return 1\n",
    "    else:\n",
    "        return 0\n",
    "max_edge_capacity=100\n",
    "edges = [(1,2),(2,3),(3,4),(4,5)]\n",
    "nodes = [1,2,3,4,5]\n",
    "source =1\n",
    "sink = 5\n",
    "edge_capacity = {}\n",
    "q_value = {}\n",
    "for node in nodes:\n",
    "    q_value[node] =0.5\n",
    "    \n",
    "\n",
    "for edge in edges:\n",
    "    edge_capacity[edge] = 100\n",
    "for i in nodes:\n",
    "    for j in nodes:\n",
    "        if (i,j) not in edges:\n",
    "            edge_capacity[(i,j)] = 0\n",
    "CPLEX_swap_scheduling()"
   ]
  },
  {
   "cell_type": "code",
   "execution_count": null,
   "id": "d682c1f0",
   "metadata": {},
   "outputs": [],
   "source": []
  }
 ],
 "metadata": {
  "kernelspec": {
   "display_name": "Python 3 (ipykernel)",
   "language": "python",
   "name": "python3"
  },
  "language_info": {
   "codemirror_mode": {
    "name": "ipython",
    "version": 3
   },
   "file_extension": ".py",
   "mimetype": "text/x-python",
   "name": "python",
   "nbconvert_exporter": "python",
   "pygments_lexer": "ipython3",
   "version": "3.9.12"
  }
 },
 "nbformat": 4,
 "nbformat_minor": 5
}
